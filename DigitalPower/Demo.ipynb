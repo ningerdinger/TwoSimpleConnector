{
 "cells": [
  {
   "cell_type": "code",
   "execution_count": 1,
   "metadata": {},
   "outputs": [],
   "source": [
    "from selenium import webdriver\n",
    "from selenium.webdriver.common.by import By\n",
    "from selenium.webdriver.common.by import By\n",
    "import time"
   ]
  },
  {
   "cell_type": "code",
   "execution_count": 2,
   "metadata": {},
   "outputs": [
    {
     "name": "stderr",
     "output_type": "stream",
     "text": [
      "C:\\Users\\jelle\\AppData\\Local\\Temp\\ipykernel_13804\\1614810316.py:4: DeprecationWarning: executable_path has been deprecated, please pass in a Service object\n",
      "  driver = webdriver.Chrome(executable_path=path, options=options)\n"
     ]
    },
    {
     "ename": "UnicodeEncodeError",
     "evalue": "'charmap' codec can't encode character '\\u202f' in position 1776: character maps to <undefined>",
     "output_type": "error",
     "traceback": [
      "\u001b[1;31m---------------------------------------------------------------------------\u001b[0m",
      "\u001b[1;31mUnicodeEncodeError\u001b[0m                        Traceback (most recent call last)",
      "\u001b[1;32mc:\\Users\\jelle\\OneDrive\\Documenten\\Python\\DigitalPower\\WebScraping.ipynb Cell 2\u001b[0m in \u001b[0;36m<cell line: 40>\u001b[1;34m()\u001b[0m\n\u001b[0;32m     <a href='vscode-notebook-cell:/c%3A/Users/jelle/OneDrive/Documenten/Python/DigitalPower/WebScraping.ipynb#W1sZmlsZQ%3D%3D?line=37'>38</a>\u001b[0m time\u001b[39m.\u001b[39msleep(\u001b[39m0.5\u001b[39m)\n\u001b[0;32m     <a href='vscode-notebook-cell:/c%3A/Users/jelle/OneDrive/Documenten/Python/DigitalPower/WebScraping.ipynb#W1sZmlsZQ%3D%3D?line=38'>39</a>\u001b[0m text_file \u001b[39m=\u001b[39m \u001b[39mopen\u001b[39m(\u001b[39m\"\u001b[39m\u001b[39msample4.txt\u001b[39m\u001b[39m\"\u001b[39m, \u001b[39m\"\u001b[39m\u001b[39mw\u001b[39m\u001b[39m\"\u001b[39m)\n\u001b[1;32m---> <a href='vscode-notebook-cell:/c%3A/Users/jelle/OneDrive/Documenten/Python/DigitalPower/WebScraping.ipynb#W1sZmlsZQ%3D%3D?line=39'>40</a>\u001b[0m n \u001b[39m=\u001b[39m text_file\u001b[39m.\u001b[39;49mwrite(writing_thing)\n\u001b[0;32m     <a href='vscode-notebook-cell:/c%3A/Users/jelle/OneDrive/Documenten/Python/DigitalPower/WebScraping.ipynb#W1sZmlsZQ%3D%3D?line=40'>41</a>\u001b[0m text_file\u001b[39m.\u001b[39mclose()\n",
      "File \u001b[1;32mc:\\Users\\jelle\\AppData\\Local\\Programs\\Python\\Python310\\lib\\encodings\\cp1252.py:19\u001b[0m, in \u001b[0;36mIncrementalEncoder.encode\u001b[1;34m(self, input, final)\u001b[0m\n\u001b[0;32m     18\u001b[0m \u001b[39mdef\u001b[39;00m \u001b[39mencode\u001b[39m(\u001b[39mself\u001b[39m, \u001b[39minput\u001b[39m, final\u001b[39m=\u001b[39m\u001b[39mFalse\u001b[39;00m):\n\u001b[1;32m---> 19\u001b[0m     \u001b[39mreturn\u001b[39;00m codecs\u001b[39m.\u001b[39;49mcharmap_encode(\u001b[39minput\u001b[39;49m,\u001b[39mself\u001b[39;49m\u001b[39m.\u001b[39;49merrors,encoding_table)[\u001b[39m0\u001b[39m]\n",
      "\u001b[1;31mUnicodeEncodeError\u001b[0m: 'charmap' codec can't encode character '\\u202f' in position 1776: character maps to <undefined>"
     ]
    }
   ],
   "source": [
    "url = 'https://www.glassdoor.co.in/Job/los-angeles-data-scientist-jobs-SRCH_IL.0,11_IC1146821_KE12,26.htm'\n",
    "path = 'C:/Users/jelle/OneDrive/Documenten/DigitalPower/chromedriver.exe'\n",
    "options = webdriver.ChromeOptions()\n",
    "driver = webdriver.Chrome(executable_path=path, options=options)\n",
    "driver.get(url)\n",
    "\n",
    "time.sleep(3)\n",
    "data_set = driver.find_element(By.XPATH, '//*[@id=\"MainCol\"]/div[1]/ul')\n",
    "writing_thing = str(data_set.text)\n",
    "text_file = open(\"sample.txt\", \"w\", encoding=\"utf-8\")\n",
    "n = text_file.write(writing_thing)\n",
    "text_file.close()\n",
    "time.sleep(3)\n",
    "button = driver.find_element(By.XPATH, '//*[@id=\"MainCol\"]/div[2]/div/div[1]/button[7]')\n",
    "driver.execute_script(\"arguments[0].click();\", button)\n",
    "time.sleep(3)\n",
    "data_set = driver.find_element(By.XPATH, '//*[@id=\"MainCol\"]/div[1]/ul')\n",
    "writing_thing = str(data_set.text)\n",
    "text_file = open(\"sample2.txt\", \"w\", encoding=\"utf-8\")\n",
    "n = text_file.write(writing_thing)\n",
    "text_file.close()\n",
    "time.sleep(3)\n",
    "button = driver.find_element(By.XPATH, '//*[@id=\"MainCol\"]/div[2]/div/div[1]/button[7]')\n",
    "driver.execute_script(\"arguments[0].click();\", button)\n",
    "time.sleep(3)\n",
    "data_set = driver.find_element(By.XPATH, '//*[@id=\"MainCol\"]/div[1]/ul')\n",
    "writing_thing = str(data_set.text)\n",
    "text_file = open(\"sample3.txt\", \"w\", encoding=\"utf-8\")\n",
    "n = text_file.write(writing_thing)\n",
    "text_file.close()\n",
    "time.sleep(3)\n",
    "button = driver.find_element(By.XPATH, '//*[@id=\"MainCol\"]/div[2]/div/div[1]/button[7]')\n",
    "driver.execute_script(\"arguments[0].click();\", button)\n",
    "time.sleep(3)\n",
    "data_set = driver.find_element(By.XPATH, '//*[@id=\"MainCol\"]/div[1]/ul')\n",
    "time.sleep(3)\n",
    "writing_thing = str(data_set.text)\n",
    "time.sleep(3)\n",
    "text_file = open(\"sample4.txt\", \"w\", encoding=\"utf-8\")\n",
    "n = text_file.write(writing_thing)\n",
    "text_file.close()\n"
   ]
  },
  {
   "cell_type": "code",
   "execution_count": null,
   "metadata": {},
   "outputs": [],
   "source": []
  }
 ],
 "metadata": {
  "kernelspec": {
   "display_name": "Python 3.10.6 64-bit",
   "language": "python",
   "name": "python3"
  },
  "language_info": {
   "codemirror_mode": {
    "name": "ipython",
    "version": 3
   },
   "file_extension": ".py",
   "mimetype": "text/x-python",
   "name": "python",
   "nbconvert_exporter": "python",
   "pygments_lexer": "ipython3",
   "version": "3.10.6"
  },
  "orig_nbformat": 4,
  "vscode": {
   "interpreter": {
    "hash": "a201bd2bcf2ce86bc96f6a534c05044cf84413470c383ec91327d1664300d02a"
   }
  }
 },
 "nbformat": 4,
 "nbformat_minor": 2
}
