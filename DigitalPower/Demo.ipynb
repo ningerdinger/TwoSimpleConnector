{
 "cells": [
  {
   "cell_type": "code",
   "execution_count": 1,
   "metadata": {},
   "outputs": [],
   "source": [
    "from selenium import webdriver\n",
    "from selenium.webdriver.common.by import By\n",
    "from selenium.webdriver.common.by import By\n",
    "import time"
   ]
  },
  {
   "cell_type": "code",
   "execution_count": 4,
   "metadata": {},
   "outputs": [
    {
     "name": "stderr",
     "output_type": "stream",
     "text": [
      "C:\\Users\\jelle\\AppData\\Local\\Temp\\ipykernel_21236\\601334902.py:4: DeprecationWarning: executable_path has been deprecated, please pass in a Service object\n",
      "  driver = webdriver.Chrome(executable_path=path, options=options)\n"
     ]
    }
   ],
   "source": [
    "url = 'https://www.glassdoor.co.in/Job/los-angeles-data-scientist-jobs-SRCH_IL.0,11_IC1146821_KE12,26.htm'\n",
    "path = 'C:/Users/jelle/OneDrive/Documenten/python_demo/TwoSimpleConnector/DigitalPower/chromedriver.exe'\n",
    "options = webdriver.ChromeOptions()\n",
    "driver = webdriver.Chrome(executable_path=path, options=options)\n",
    "driver.get(url)\n",
    "\n",
    "time.sleep(3)\n",
    "data_set = driver.find_element(By.XPATH, '//*[@id=\"MainCol\"]/div[1]/ul')\n",
    "writing_thing = str(data_set.text)\n",
    "text_file = open(\"sample.txt\", \"w\", encoding=\"utf-8\")\n",
    "n = text_file.write(writing_thing)\n",
    "text_file.close()\n",
    "time.sleep(3)\n",
    "button = driver.find_element(By.XPATH, '//*[@id=\"MainCol\"]/div[2]/div/div[1]/button[7]')\n",
    "driver.execute_script(\"arguments[0].click();\", button)\n",
    "time.sleep(3)\n",
    "data_set = driver.find_element(By.XPATH, '//*[@id=\"MainCol\"]/div[1]/ul')\n",
    "writing_thing = str(data_set.text)\n",
    "text_file = open(\"sample2.txt\", \"w\", encoding=\"utf-8\")\n",
    "n = text_file.write(writing_thing)\n",
    "text_file.close()\n",
    "time.sleep(3)\n",
    "button = driver.find_element(By.XPATH, '//*[@id=\"MainCol\"]/div[2]/div/div[1]/button[7]')\n",
    "driver.execute_script(\"arguments[0].click();\", button)\n",
    "time.sleep(3)\n",
    "data_set = driver.find_element(By.XPATH, '//*[@id=\"MainCol\"]/div[1]/ul')\n",
    "writing_thing = str(data_set.text)\n",
    "text_file = open(\"sample3.txt\", \"w\", encoding=\"utf-8\")\n",
    "n = text_file.write(writing_thing)\n",
    "text_file.close()\n",
    "time.sleep(3)\n",
    "button = driver.find_element(By.XPATH, '//*[@id=\"MainCol\"]/div[2]/div/div[1]/button[7]')\n",
    "driver.execute_script(\"arguments[0].click();\", button)\n",
    "time.sleep(3)\n",
    "data_set = driver.find_element(By.XPATH, '//*[@id=\"MainCol\"]/div[1]/ul')\n",
    "time.sleep(3)\n",
    "writing_thing = str(data_set.text)\n",
    "time.sleep(3)\n",
    "text_file = open(\"sample4.txt\", \"w\", encoding=\"utf-8\")\n",
    "n = text_file.write(writing_thing)\n",
    "text_file.close()\n"
   ]
  },
  {
   "cell_type": "code",
   "execution_count": null,
   "metadata": {},
   "outputs": [],
   "source": []
  }
 ],
 "metadata": {
  "kernelspec": {
   "display_name": "Python 3.10.6 64-bit",
   "language": "python",
   "name": "python3"
  },
  "language_info": {
   "codemirror_mode": {
    "name": "ipython",
    "version": 3
   },
   "file_extension": ".py",
   "mimetype": "text/x-python",
   "name": "python",
   "nbconvert_exporter": "python",
   "pygments_lexer": "ipython3",
   "version": "3.10.6"
  },
  "orig_nbformat": 4,
  "vscode": {
   "interpreter": {
    "hash": "a201bd2bcf2ce86bc96f6a534c05044cf84413470c383ec91327d1664300d02a"
   }
  }
 },
 "nbformat": 4,
 "nbformat_minor": 2
}
